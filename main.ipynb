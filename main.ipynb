{
 "cells": [
  {
   "cell_type": "markdown",
   "id": "ec5db96d",
   "metadata": {},
   "source": [
    "# Análise de Regressão Logística: O Impacto da Cor da Parede na Agilidade dos Laudos\n",
    "\n",
    "## Dataset: [Link](./data/dasa-final.csv)\n",
    "\n",
    "**Objetivo:** Investigar a crença de que pintar a parede da sala de coleta de laranja está associado a uma maior agilidade na entrega de laudos.\n",
    "\n",
    "**Problema de Negócio:** \"A parede da sala de coleta pintada de laranja realmente ajuda a agilizar os laudos?\" (Cris, Experiência do Paciente)\n",
    "\n",
    "**Metodologia:** Utilizaremos um modelo de Regressão Logística para determinar se a variável `cor_parede_coleta` tem um impacto estatisticamente significativo na probabilidade de um laudo ser liberado rapidamente."
   ]
  },
  {
   "cell_type": "markdown",
   "id": "02495542",
   "metadata": {},
   "source": [
    "## Importando Bibliotecas & Helpers"
   ]
  },
  {
   "cell_type": "code",
   "execution_count": 16,
   "id": "ee74f520",
   "metadata": {},
   "outputs": [],
   "source": [
    "from utils.helpers import generate_unique_values_table, get_dimensions, COLUNAS_ORDENADAS\n",
    "from IPython.display import display, Markdown\n",
    "\n",
    "import pandas as pd\n",
    "import numpy as np\n",
    "\n",
    "from sklearn.linear_model import LogisticRegression\n",
    "from sklearn.preprocessing import StandardScaler\n",
    "from sklearn.model_selection import train_test_split\n",
    "from scipy import stats\n",
    "\n",
    "import matplotlib.pyplot as plt\n",
    "import seaborn as sns\n",
    "\n",
    "sns.set_style(style=\"whitegrid\")"
   ]
  },
  {
   "cell_type": "markdown",
   "id": "347919e2",
   "metadata": {},
   "source": [
    "## Lendo o dataset"
   ]
  },
  {
   "cell_type": "code",
   "execution_count": 17,
   "id": "c3e8ad6c",
   "metadata": {},
   "outputs": [],
   "source": [
    "df_dasa = pd.read_csv('./data/dasa-final.csv', sep=',')"
   ]
  },
  {
   "cell_type": "code",
   "execution_count": 18,
   "id": "02976f6c",
   "metadata": {},
   "outputs": [
    {
     "data": {
      "text/markdown": [
       "**Dimensões:** 1.000 registros, 26 colunas"
      ],
      "text/plain": [
       "<IPython.core.display.Markdown object>"
      ]
     },
     "metadata": {},
     "output_type": "display_data"
    },
    {
     "data": {
      "text/html": [
       "<div>\n",
       "<style scoped>\n",
       "    .dataframe tbody tr th:only-of-type {\n",
       "        vertical-align: middle;\n",
       "    }\n",
       "\n",
       "    .dataframe tbody tr th {\n",
       "        vertical-align: top;\n",
       "    }\n",
       "\n",
       "    .dataframe thead th {\n",
       "        text-align: right;\n",
       "    }\n",
       "</style>\n",
       "<table border=\"1\" class=\"dataframe\">\n",
       "  <thead>\n",
       "    <tr style=\"text-align: right;\">\n",
       "      <th></th>\n",
       "      <th>unidade</th>\n",
       "      <th>mes</th>\n",
       "      <th>dia_fechamento</th>\n",
       "      <th>pacientes_dia</th>\n",
       "      <th>exames_realizados</th>\n",
       "      <th>tipo_exame</th>\n",
       "      <th>turno_mais_movimentado</th>\n",
       "      <th>hora_inicio_turno</th>\n",
       "      <th>temp_medio_exame</th>\n",
       "      <th>tempo_entrega_resultado</th>\n",
       "      <th>...</th>\n",
       "      <th>cpf_biomedico</th>\n",
       "      <th>cor_jaleco_funcionario</th>\n",
       "      <th>mes_nascimento_biomedico</th>\n",
       "      <th>musica_ambiente</th>\n",
       "      <th>cheiro_ambiente</th>\n",
       "      <th>aromatizador_eucalipto</th>\n",
       "      <th>elemento_decorativo</th>\n",
       "      <th>cor_parede_laboratorio</th>\n",
       "      <th>cor_parede_coleta</th>\n",
       "      <th>janela_virada_para</th>\n",
       "    </tr>\n",
       "  </thead>\n",
       "  <tbody>\n",
       "    <tr>\n",
       "      <th>0</th>\n",
       "      <td>Unidade C</td>\n",
       "      <td>jun/2025</td>\n",
       "      <td>23</td>\n",
       "      <td>52</td>\n",
       "      <td>72</td>\n",
       "      <td>sangue</td>\n",
       "      <td>manhã</td>\n",
       "      <td>9</td>\n",
       "      <td>20.1</td>\n",
       "      <td>22.17</td>\n",
       "      <td>...</td>\n",
       "      <td>97069094493</td>\n",
       "      <td>verde_limao</td>\n",
       "      <td>set</td>\n",
       "      <td>nenhuma</td>\n",
       "      <td>café</td>\n",
       "      <td>não</td>\n",
       "      <td>cacto</td>\n",
       "      <td>verde</td>\n",
       "      <td>verde</td>\n",
       "      <td>leste</td>\n",
       "    </tr>\n",
       "    <tr>\n",
       "      <th>1</th>\n",
       "      <td>Unidade E</td>\n",
       "      <td>mai/2025</td>\n",
       "      <td>3</td>\n",
       "      <td>56</td>\n",
       "      <td>48</td>\n",
       "      <td>imagem</td>\n",
       "      <td>tarde</td>\n",
       "      <td>7</td>\n",
       "      <td>16.6</td>\n",
       "      <td>33.48</td>\n",
       "      <td>...</td>\n",
       "      <td>87320570731</td>\n",
       "      <td>azul_bebe</td>\n",
       "      <td>nov</td>\n",
       "      <td>nenhuma</td>\n",
       "      <td>lavanda</td>\n",
       "      <td>não</td>\n",
       "      <td>nenhum</td>\n",
       "      <td>azul</td>\n",
       "      <td>amarela</td>\n",
       "      <td>nenhuma</td>\n",
       "    </tr>\n",
       "    <tr>\n",
       "      <th>2</th>\n",
       "      <td>Unidade A</td>\n",
       "      <td>mai/2025</td>\n",
       "      <td>8</td>\n",
       "      <td>44</td>\n",
       "      <td>67</td>\n",
       "      <td>NaN</td>\n",
       "      <td>manhã</td>\n",
       "      <td>12</td>\n",
       "      <td>18.6</td>\n",
       "      <td>41.57</td>\n",
       "      <td>...</td>\n",
       "      <td>37306026087</td>\n",
       "      <td>branco</td>\n",
       "      <td>mar</td>\n",
       "      <td>pagode_90s</td>\n",
       "      <td>café</td>\n",
       "      <td>não</td>\n",
       "      <td>nenhum</td>\n",
       "      <td>cinza</td>\n",
       "      <td>laranja</td>\n",
       "      <td>norte</td>\n",
       "    </tr>\n",
       "    <tr>\n",
       "      <th>3</th>\n",
       "      <td>Unidade D</td>\n",
       "      <td>fev/2025</td>\n",
       "      <td>17</td>\n",
       "      <td>51</td>\n",
       "      <td>57</td>\n",
       "      <td>imagem</td>\n",
       "      <td>noite</td>\n",
       "      <td>8</td>\n",
       "      <td>10.0</td>\n",
       "      <td>34.92</td>\n",
       "      <td>...</td>\n",
       "      <td>56594789692</td>\n",
       "      <td>azul_bebe</td>\n",
       "      <td>nov</td>\n",
       "      <td>nenhuma</td>\n",
       "      <td>lavanda</td>\n",
       "      <td>não</td>\n",
       "      <td>cacto</td>\n",
       "      <td>grafite</td>\n",
       "      <td>azul_cobalto</td>\n",
       "      <td>nenhuma</td>\n",
       "    </tr>\n",
       "    <tr>\n",
       "      <th>4</th>\n",
       "      <td>Unidade D</td>\n",
       "      <td>jul/2024</td>\n",
       "      <td>29</td>\n",
       "      <td>56</td>\n",
       "      <td>69</td>\n",
       "      <td>urina</td>\n",
       "      <td>noite</td>\n",
       "      <td>12</td>\n",
       "      <td>24.4</td>\n",
       "      <td>32.59</td>\n",
       "      <td>...</td>\n",
       "      <td>38100952961</td>\n",
       "      <td>verde_limao</td>\n",
       "      <td>jul</td>\n",
       "      <td>nenhuma</td>\n",
       "      <td>café</td>\n",
       "      <td>não</td>\n",
       "      <td>vaso_bambu</td>\n",
       "      <td>azul</td>\n",
       "      <td>verde</td>\n",
       "      <td>leste</td>\n",
       "    </tr>\n",
       "  </tbody>\n",
       "</table>\n",
       "<p>5 rows × 26 columns</p>\n",
       "</div>"
      ],
      "text/plain": [
       "     unidade       mes  dia_fechamento  pacientes_dia  exames_realizados  \\\n",
       "0  Unidade C  jun/2025              23             52                 72   \n",
       "1  Unidade E  mai/2025               3             56                 48   \n",
       "2  Unidade A  mai/2025               8             44                 67   \n",
       "3  Unidade D  fev/2025              17             51                 57   \n",
       "4  Unidade D  jul/2024              29             56                 69   \n",
       "\n",
       "  tipo_exame turno_mais_movimentado  hora_inicio_turno  temp_medio_exame  \\\n",
       "0     sangue                  manhã                  9              20.1   \n",
       "1     imagem                  tarde                  7              16.6   \n",
       "2        NaN                  manhã                 12              18.6   \n",
       "3     imagem                  noite                  8              10.0   \n",
       "4      urina                  noite                 12              24.4   \n",
       "\n",
       "   tempo_entrega_resultado  ... cpf_biomedico  cor_jaleco_funcionario  \\\n",
       "0                    22.17  ...   97069094493             verde_limao   \n",
       "1                    33.48  ...   87320570731               azul_bebe   \n",
       "2                    41.57  ...   37306026087                  branco   \n",
       "3                    34.92  ...   56594789692               azul_bebe   \n",
       "4                    32.59  ...   38100952961             verde_limao   \n",
       "\n",
       "  mes_nascimento_biomedico musica_ambiente cheiro_ambiente  \\\n",
       "0                      set         nenhuma            café   \n",
       "1                      nov         nenhuma         lavanda   \n",
       "2                      mar      pagode_90s            café   \n",
       "3                      nov         nenhuma         lavanda   \n",
       "4                      jul         nenhuma            café   \n",
       "\n",
       "  aromatizador_eucalipto  elemento_decorativo cor_parede_laboratorio  \\\n",
       "0                    não                cacto                  verde   \n",
       "1                    não               nenhum                   azul   \n",
       "2                    não               nenhum                  cinza   \n",
       "3                    não                cacto                grafite   \n",
       "4                    não           vaso_bambu                   azul   \n",
       "\n",
       "  cor_parede_coleta janela_virada_para  \n",
       "0             verde              leste  \n",
       "1           amarela            nenhuma  \n",
       "2           laranja              norte  \n",
       "3      azul_cobalto            nenhuma  \n",
       "4             verde              leste  \n",
       "\n",
       "[5 rows x 26 columns]"
      ]
     },
     "metadata": {},
     "output_type": "display_data"
    }
   ],
   "source": [
    "df_dasa = df_dasa[COLUNAS_ORDENADAS]\n",
    "display(Markdown(f\"**Dimensões:** {get_dimensions(df_dasa)}\"))\n",
    "\n",
    "display(df_dasa.head())\n"
   ]
  },
  {
   "cell_type": "markdown",
   "id": "ca0948cb",
   "metadata": {},
   "source": [
    "## Formatando os dados\n",
    "\n",
    "1. Converter colunas numéricas para tipos mais eficientes  \n",
    "2. Converter colunas binárias ('sim'/'não') para booleanos  \n",
    "3. Limpar erros de digitação em colunas categóricas\n",
    "4. Converter colunas de texto para o tipo 'category'  \n",
    "5. Tratar valores ausentes  \n",
    "6. Verificar os novos tipos de dados  "
   ]
  },
  {
   "cell_type": "code",
   "execution_count": 19,
   "id": "b895f868",
   "metadata": {},
   "outputs": [
    {
     "name": "stdout",
     "output_type": "stream",
     "text": [
      "<class 'pandas.core.frame.DataFrame'>\n",
      "RangeIndex: 1000 entries, 0 to 999\n",
      "Data columns (total 26 columns):\n",
      " #   Column                      Non-Null Count  Dtype   \n",
      "---  ------                      --------------  -----   \n",
      " 0   unidade                     1000 non-null   category\n",
      " 1   mes                         1000 non-null   category\n",
      " 2   dia_fechamento              1000 non-null   int8    \n",
      " 3   pacientes_dia               1000 non-null   int16   \n",
      " 4   exames_realizados           1000 non-null   int16   \n",
      " 5   tipo_exame                  911 non-null    category\n",
      " 6   turno_mais_movimentado      1000 non-null   category\n",
      " 7   hora_inicio_turno           1000 non-null   int8    \n",
      " 8   temp_medio_exame            920 non-null    float64 \n",
      " 9   tempo_entrega_resultado     1000 non-null   float64 \n",
      " 10  protocolo_emergencia        920 non-null    boolean \n",
      " 11  quantidade_refrigeradores   1000 non-null   int8    \n",
      " 12  tipo_refrigeracao           1000 non-null   category\n",
      " 13  alinhamento_refrigeradores  1000 non-null   category\n",
      " 14  direcao_centrifuga          1000 non-null   category\n",
      " 15  chefe_setor                 1000 non-null   category\n",
      " 16  cpf_biomedico               1000 non-null   string  \n",
      " 17  cor_jaleco_funcionario      1000 non-null   category\n",
      " 18  mes_nascimento_biomedico    1000 non-null   category\n",
      " 19  musica_ambiente             1000 non-null   category\n",
      " 20  cheiro_ambiente             1000 non-null   category\n",
      " 21  aromatizador_eucalipto      1000 non-null   bool    \n",
      " 22  elemento_decorativo         1000 non-null   category\n",
      " 23  cor_parede_laboratorio      1000 non-null   category\n",
      " 24  cor_parede_coleta           1000 non-null   category\n",
      " 25  janela_virada_para          1000 non-null   category\n",
      "dtypes: bool(1), boolean(1), category(16), float64(2), int16(2), int8(3), string(1)\n",
      "memory usage: 53.2 KB\n"
     ]
    }
   ],
   "source": [
    "df_dasa_formatted = df_dasa.copy()\n",
    "\n",
    "df_dasa_formatted['pacientes_dia'] = df_dasa['pacientes_dia'].astype('int16')\n",
    "df_dasa_formatted['exames_realizados'] = df_dasa['exames_realizados'].astype('int16')\n",
    "df_dasa_formatted['quantidade_refrigeradores'] = df_dasa['quantidade_refrigeradores'].astype('int8')\n",
    "df_dasa_formatted['hora_inicio_turno'] = df_dasa['hora_inicio_turno'].astype('int8')\n",
    "df_dasa_formatted['dia_fechamento'] = df_dasa['dia_fechamento'].astype('int8')\n",
    "\n",
    "mapeamento_bool = {'sim': True, 'não': False}\n",
    "df_dasa_formatted['protocolo_emergencia'] = df_dasa['protocolo_emergencia'].map(mapeamento_bool).astype('boolean')\n",
    "df_dasa_formatted['aromatizador_eucalipto'] = df_dasa['aromatizador_eucalipto'].map(mapeamento_bool).astype(bool)\n",
    "\n",
    "df_dasa_formatted['tipo_exame'] = df_dasa_formatted['tipo_exame'].replace({'??!!##': np.nan})\n",
    "df_dasa_formatted['cor_parede_laboratorio'] = df_dasa_formatted['cor_parede_laboratorio'].replace({'GRAFITE #007': 'grafite'})\n",
    "\n",
    "df_dasa_formatted['cpf_biomedico'] = df_dasa_formatted['cpf_biomedico'].astype('string')\n",
    "\n",
    "colunas_categoricas = [\n",
    "    'unidade', 'mes', 'tipo_exame', 'turno_mais_movimentado', 'direcao_centrifuga',\n",
    "    'alinhamento_refrigeradores', 'cor_parede_laboratorio', 'cor_parede_coleta',\n",
    "    'cheiro_ambiente', 'musica_ambiente', 'cor_jaleco_funcionario',\n",
    "    'elemento_decorativo', 'janela_virada_para', 'mes_nascimento_biomedico',\n",
    "    'chefe_setor', 'tipo_refrigeracao'\n",
    "]\n",
    "\n",
    "for col in colunas_categoricas:\n",
    "    df_dasa_formatted[col] = df_dasa_formatted[col].astype('category')\n",
    "\n",
    "df_dasa_formatted.info()"
   ]
  },
  {
   "cell_type": "markdown",
   "id": "b00af823",
   "metadata": {},
   "source": [
    "### Análise Exploratória"
   ]
  },
  {
   "cell_type": "markdown",
   "id": "d87697ae",
   "metadata": {},
   "source": [
    "### Valores Nulos por Coluna"
   ]
  },
  {
   "cell_type": "code",
   "execution_count": 20,
   "id": "4c82b001",
   "metadata": {},
   "outputs": [
    {
     "data": {
      "text/html": [
       "<div>\n",
       "<style scoped>\n",
       "    .dataframe tbody tr th:only-of-type {\n",
       "        vertical-align: middle;\n",
       "    }\n",
       "\n",
       "    .dataframe tbody tr th {\n",
       "        vertical-align: top;\n",
       "    }\n",
       "\n",
       "    .dataframe thead th {\n",
       "        text-align: right;\n",
       "    }\n",
       "</style>\n",
       "<table border=\"1\" class=\"dataframe\">\n",
       "  <thead>\n",
       "    <tr style=\"text-align: right;\">\n",
       "      <th></th>\n",
       "      <th>nulos</th>\n",
       "    </tr>\n",
       "  </thead>\n",
       "  <tbody>\n",
       "    <tr>\n",
       "      <th>unidade</th>\n",
       "      <td>0</td>\n",
       "    </tr>\n",
       "    <tr>\n",
       "      <th>mes</th>\n",
       "      <td>0</td>\n",
       "    </tr>\n",
       "    <tr>\n",
       "      <th>dia_fechamento</th>\n",
       "      <td>0</td>\n",
       "    </tr>\n",
       "    <tr>\n",
       "      <th>pacientes_dia</th>\n",
       "      <td>0</td>\n",
       "    </tr>\n",
       "    <tr>\n",
       "      <th>exames_realizados</th>\n",
       "      <td>0</td>\n",
       "    </tr>\n",
       "    <tr>\n",
       "      <th>tipo_exame</th>\n",
       "      <td>79</td>\n",
       "    </tr>\n",
       "    <tr>\n",
       "      <th>turno_mais_movimentado</th>\n",
       "      <td>0</td>\n",
       "    </tr>\n",
       "    <tr>\n",
       "      <th>hora_inicio_turno</th>\n",
       "      <td>0</td>\n",
       "    </tr>\n",
       "    <tr>\n",
       "      <th>temp_medio_exame</th>\n",
       "      <td>80</td>\n",
       "    </tr>\n",
       "    <tr>\n",
       "      <th>tempo_entrega_resultado</th>\n",
       "      <td>0</td>\n",
       "    </tr>\n",
       "    <tr>\n",
       "      <th>protocolo_emergencia</th>\n",
       "      <td>80</td>\n",
       "    </tr>\n",
       "    <tr>\n",
       "      <th>quantidade_refrigeradores</th>\n",
       "      <td>0</td>\n",
       "    </tr>\n",
       "    <tr>\n",
       "      <th>tipo_refrigeracao</th>\n",
       "      <td>0</td>\n",
       "    </tr>\n",
       "    <tr>\n",
       "      <th>alinhamento_refrigeradores</th>\n",
       "      <td>0</td>\n",
       "    </tr>\n",
       "    <tr>\n",
       "      <th>direcao_centrifuga</th>\n",
       "      <td>0</td>\n",
       "    </tr>\n",
       "    <tr>\n",
       "      <th>chefe_setor</th>\n",
       "      <td>0</td>\n",
       "    </tr>\n",
       "    <tr>\n",
       "      <th>cpf_biomedico</th>\n",
       "      <td>0</td>\n",
       "    </tr>\n",
       "    <tr>\n",
       "      <th>cor_jaleco_funcionario</th>\n",
       "      <td>0</td>\n",
       "    </tr>\n",
       "    <tr>\n",
       "      <th>mes_nascimento_biomedico</th>\n",
       "      <td>0</td>\n",
       "    </tr>\n",
       "    <tr>\n",
       "      <th>musica_ambiente</th>\n",
       "      <td>0</td>\n",
       "    </tr>\n",
       "    <tr>\n",
       "      <th>cheiro_ambiente</th>\n",
       "      <td>0</td>\n",
       "    </tr>\n",
       "    <tr>\n",
       "      <th>aromatizador_eucalipto</th>\n",
       "      <td>0</td>\n",
       "    </tr>\n",
       "    <tr>\n",
       "      <th>elemento_decorativo</th>\n",
       "      <td>0</td>\n",
       "    </tr>\n",
       "    <tr>\n",
       "      <th>cor_parede_laboratorio</th>\n",
       "      <td>0</td>\n",
       "    </tr>\n",
       "    <tr>\n",
       "      <th>cor_parede_coleta</th>\n",
       "      <td>0</td>\n",
       "    </tr>\n",
       "    <tr>\n",
       "      <th>janela_virada_para</th>\n",
       "      <td>0</td>\n",
       "    </tr>\n",
       "  </tbody>\n",
       "</table>\n",
       "</div>"
      ],
      "text/plain": [
       "                            nulos\n",
       "unidade                         0\n",
       "mes                             0\n",
       "dia_fechamento                  0\n",
       "pacientes_dia                   0\n",
       "exames_realizados               0\n",
       "tipo_exame                     79\n",
       "turno_mais_movimentado          0\n",
       "hora_inicio_turno               0\n",
       "temp_medio_exame               80\n",
       "tempo_entrega_resultado         0\n",
       "protocolo_emergencia           80\n",
       "quantidade_refrigeradores       0\n",
       "tipo_refrigeracao               0\n",
       "alinhamento_refrigeradores      0\n",
       "direcao_centrifuga              0\n",
       "chefe_setor                     0\n",
       "cpf_biomedico                   0\n",
       "cor_jaleco_funcionario          0\n",
       "mes_nascimento_biomedico        0\n",
       "musica_ambiente                 0\n",
       "cheiro_ambiente                 0\n",
       "aromatizador_eucalipto          0\n",
       "elemento_decorativo             0\n",
       "cor_parede_laboratorio          0\n",
       "cor_parede_coleta               0\n",
       "janela_virada_para              0"
      ]
     },
     "metadata": {},
     "output_type": "display_data"
    }
   ],
   "source": [
    "display(df_dasa.isnull().sum().to_frame(\"nulos\"))"
   ]
  },
  {
   "cell_type": "markdown",
   "id": "7475d4b4",
   "metadata": {},
   "source": [
    "### Valores únicos por categoria"
   ]
  },
  {
   "cell_type": "code",
   "execution_count": 21,
   "id": "1d933006",
   "metadata": {},
   "outputs": [
    {
     "data": {
      "text/markdown": [
       "| Coluna                     | Valores |\n",
       "|----------------------------|---------|\n",
       "| unidade                      | Unidade E, Unidade D, Unidade A, Unidade C, Unidade B, Unidade F |\n",
       "| mes                          | mar/2024, ago/2024, ago/2025, nov/2025, set/2024, jan/2025, mai/2024, out/2024, jul/2024, jan/2024, jun/2025, fev/2024, nov/2024, dez/2025, set/2025, mai/2025, out/2025, dez/2024, abr/2024, mar/2025, jun/2024, fev/2025, jul/2025, abr/2025 |\n",
       "| tipo_exame                   | sangue, urina, imagem, covid, genético, alergia, hormonal, NaN |\n",
       "| turno_mais_movimentado       | manhã, tarde, noite |\n",
       "| protocolo_emergencia         | False, True, NaN |\n",
       "| tipo_refrigeracao            | climatizada, seca, umida, controlada |\n",
       "| alinhamento_refrigeradores   | lado_a_lado, dispersos, em_L |\n",
       "| direcao_centrifuga           | oeste, leste, sul, norte |\n",
       "| chefe_setor                  | Carlos, Julia, Nina, Marcos, Eduardo, Bianca, Ana, José, 1234, 1113 |\n",
       "| cor_jaleco_funcionario       | azul_bebe, verde_limao, branco, vinho |\n",
       "| mes_nascimento_biomedico     | jul, jan, ago, nov, dez, jun, mai, out, set, mar, abr, fev |\n",
       "| musica_ambiente              | nenhuma, rock, jazz, pagode_90s |\n",
       "| cheiro_ambiente              | café, eucalipto, lavanda, nenhum |\n",
       "| aromatizador_eucalipto       | False, True |\n",
       "| elemento_decorativo          | nenhum, vaso_bambu, cacto, samambaia |\n",
       "| cor_parede_laboratorio       | amarela, azul, cinza, grafite, laranja, verde, branca, vinho, azul_cobalto |\n",
       "| cor_parede_coleta            | branca, azul_cobalto, amarela, roxa, laranja, verde |\n",
       "| janela_virada_para           | nenhuma, oeste, sul, leste, norte |\n"
      ],
      "text/plain": [
       "<IPython.core.display.Markdown object>"
      ]
     },
     "metadata": {},
     "output_type": "display_data"
    }
   ],
   "source": [
    "display(Markdown(generate_unique_values_table(df_dasa_formatted)))\n",
    "\n",
    "\n",
    "numerical_cols = df_dasa_formatted.select_dtypes(\n",
    "    include=[\"int16\", \"int8\", \"int64\", \"float64\"]\n",
    ").columns\n",
    "categorical_cols = df_dasa_formatted.select_dtypes(include=[\"category\", \"bool\", \"boolean\"]).columns\n"
   ]
  },
  {
   "cell_type": "markdown",
   "id": "10b6f1cb",
   "metadata": {},
   "source": [
    "### Colunas Numéricas vs Categóricas"
   ]
  },
  {
   "cell_type": "code",
   "execution_count": 22,
   "id": "b9f1b8a9",
   "metadata": {},
   "outputs": [
    {
     "data": {
      "text/markdown": [
       "\n",
       "| Tipo de Variável | Colunas |\n",
       "|------------------|---------|\n",
       "| Numéricas        | dia_fechamento, pacientes_dia, exames_realizados, hora_inicio_turno, temp_medio_exame, tempo_entrega_resultado, quantidade_refrigeradores |\n",
       "| Categóricas      | unidade, mes, tipo_exame, turno_mais_movimentado, protocolo_emergencia, tipo_refrigeracao, alinhamento_refrigeradores, direcao_centrifuga, chefe_setor, cor_jaleco_funcionario, mes_nascimento_biomedico, musica_ambiente, cheiro_ambiente, aromatizador_eucalipto, elemento_decorativo, cor_parede_laboratorio, cor_parede_coleta, janela_virada_para |\n"
      ],
      "text/plain": [
       "<IPython.core.display.Markdown object>"
      ]
     },
     "metadata": {},
     "output_type": "display_data"
    }
   ],
   "source": [
    "variable_type_summary = (\n",
    "    \"\"\"\n",
    "| Tipo de Variável | Colunas |\n",
    "|------------------|---------|\n",
    "\"\"\" +\n",
    "    f\"| Numéricas        | {', '.join(numerical_cols)} |\\n\"\n",
    "    f\"| Categóricas      | {', '.join(categorical_cols)} |\\n\"\n",
    ")\n",
    "\n",
    "display(Markdown(variable_type_summary))"
   ]
  },
  {
   "cell_type": "markdown",
   "id": "28679159",
   "metadata": {},
   "source": [
    "### Boxplots colunas numéricas"
   ]
  },
  {
   "cell_type": "code",
   "execution_count": 23,
   "id": "86292536",
   "metadata": {},
   "outputs": [
    {
     "data": {
      "image/png": "[encoded data removed]",
      "text/plain": [
       "<Figure size 1200x600 with 1 Axes>"
      ]
     },
     "metadata": {},
     "output_type": "display_data"
    },
    {
     "data": {
      "text/markdown": [
       "### Mínimo e Máximo das Variáveis Numéricas"
      ],
      "text/plain": [
       "<IPython.core.display.Markdown object>"
      ]
     },
     "metadata": {},
     "output_type": "display_data"
    },
    {
     "data": {
      "text/markdown": [
       "| Coluna | Mínimo | Máximo |\n",
       "|--------|--------|--------|\n",
       "| dia_fechamento | 1 | 31 |\n",
       "| pacientes_dia | 26 | 83 |\n",
       "| exames_realizados | 30 | 91 |\n",
       "| hora_inicio_turno | 5 | 12 |\n",
       "| temp_medio_exame | -24.8 | 30.9 |\n",
       "| tempo_entrega_resultado | 15.01 | 60.21 |\n",
       "| quantidade_refrigeradores | 1 | 4 |\n"
      ],
      "text/plain": [
       "<IPython.core.display.Markdown object>"
      ]
     },
     "metadata": {},
     "output_type": "display_data"
    }
   ],
   "source": [
    "plt.figure(figsize=(12, 6))\n",
    "sns.boxplot(data=df_dasa_formatted[numerical_cols])\n",
    "plt.title(\"Boxplot das Variáveis Numéricas\")\n",
    "plt.xticks(rotation=45)\n",
    "plt.show()\n",
    "\n",
    "min_max_table = \"| Coluna | Mínimo | Máximo |\\n|--------|--------|--------|\\n\"\n",
    "for col in numerical_cols:\n",
    "    min_val = df_dasa_formatted[col].min()\n",
    "    max_val = df_dasa_formatted[col].max()\n",
    "    min_max_table += f\"| {col} | {min_val} | {max_val} |\\n\"\n",
    "\n",
    "display(Markdown(\"### Mínimo e Máximo das Variáveis Numéricas\"))\n",
    "display(Markdown(min_max_table))"
   ]
  },
  {
   "cell_type": "markdown",
   "id": "4fb7a3f7",
   "metadata": {},
   "source": [
    "### Correlações das colunas"
   ]
  },
  {
   "cell_type": "code",
   "execution_count": 24,
   "id": "6dbaa96a",
   "metadata": {},
   "outputs": [
    {
     "data": {
      "image/png": "[encoded data removed]",
      "text/plain": [
       "<Figure size 1200x1000 with 2 Axes>"
      ]
     },
     "metadata": {},
     "output_type": "display_data"
    }
   ],
   "source": [
    "correlation_matrix = df_dasa_formatted.corr(numeric_only=True)\n",
    "\n",
    "plt.figure(figsize=(12, 10))\n",
    "mask = correlation_matrix.abs() < 0.05\n",
    "sns.heatmap(\n",
    "    correlation_matrix,\n",
    "    annot=True,\n",
    "    cmap=\"RdBu_r\",\n",
    "    center=0,\n",
    "    square=True,\n",
    "    fmt=\".3f\",\n",
    "    cbar_kws={\"shrink\": 0.8},\n",
    "    mask=mask,\n",
    ")\n",
    "plt.title(\n",
    "    \"Matriz de Correlação - Variáveis Numéricas\\n(Correlações < 0.05 estão mascaradas)\",\n",
    "    fontsize=14,\n",
    "    fontweight=\"bold\",\n",
    ")\n",
    "plt.tight_layout()\n",
    "plt.savefig('./imgs/correlation_matrix_dasa.png')\n",
    "plt.show()"
   ]
  },
  {
   "cell_type": "markdown",
   "id": "3aae8806",
   "metadata": {},
   "source": [
    "# **PROBLEMAS (1 - 3)**"
   ]
  },
  {
   "cell_type": "markdown",
   "id": "a45239c9",
   "metadata": {},
   "source": [
    "## **PROBLEMA 1**: Turno da Manhã, Luciana, Diretora de Operações \n",
    "### “Como posso aumentar a chance dos laudos saírem no mesmo turno da coleta (até 6h)?” \n",
    "* Explique em um parágrafo: O que a análise mostra como principal fator de sucesso para entregar laudos nesse prazo? O que recomenda à diretoria?"
   ]
  },
  {
   "cell_type": "markdown",
   "id": "e8288aac",
   "metadata": {},
   "source": [
    "### Criação da variável alvo `laudo_6h`"
   ]
  },
  {
   "cell_type": "code",
   "execution_count": 31,
   "id": "9a10049f",
   "metadata": {},
   "outputs": [
    {
     "data": {
      "text/html": [
       "<div>\n",
       "<style scoped>\n",
       "    .dataframe tbody tr th:only-of-type {\n",
       "        vertical-align: middle;\n",
       "    }\n",
       "\n",
       "    .dataframe tbody tr th {\n",
       "        vertical-align: top;\n",
       "    }\n",
       "\n",
       "    .dataframe thead th {\n",
       "        text-align: right;\n",
       "    }\n",
       "</style>\n",
       "<table border=\"1\" class=\"dataframe\">\n",
       "  <thead>\n",
       "    <tr style=\"text-align: right;\">\n",
       "      <th></th>\n",
       "      <th>Laudo no Prazo</th>\n",
       "      <th>Quantidade</th>\n",
       "    </tr>\n",
       "  </thead>\n",
       "  <tbody>\n",
       "    <tr>\n",
       "      <th>0</th>\n",
       "      <td>0</td>\n",
       "      <td>1000</td>\n",
       "    </tr>\n",
       "  </tbody>\n",
       "</table>\n",
       "</div>"
      ],
      "text/plain": [
       "   Laudo no Prazo  Quantidade\n",
       "0               0        1000"
      ]
     },
     "metadata": {},
     "output_type": "display_data"
    }
   ],
   "source": [
    "df_laudo_6h = df_dasa_formatted.copy()\n",
    "df_laudo_6h['laudo_no_prazo'] = (df_laudo_6h['tempo_entrega_resultado'] <= 6).astype(int)\n",
    "\n",
    "display(\n",
    "    df_laudo_6h['laudo_no_prazo']\n",
    "    .value_counts()\n",
    "    .rename_axis('Laudo no Prazo')\n",
    "    .to_frame('Quantidade')\n",
    "    .reset_index()\n",
    ")"
   ]
  },
  {
   "cell_type": "markdown",
   "id": "0d030240",
   "metadata": {},
   "source": [
    "## **PROBLEMA 2**: Exame de Imagem, Renato, Gestor da Unidade Central\n",
    "### “O que realmente aumenta o risco dos exames de imagem atrasarem mais de 36 horas?”\n",
    "* Explique em um parágrafo: Quais fatores mais pesam? O que deve ser ajustado/processado para evitar atrasos?"
   ]
  },
  {
   "cell_type": "code",
   "execution_count": 26,
   "id": "11918ea0",
   "metadata": {},
   "outputs": [
    {
     "data": {
      "text/markdown": [
       "Taxa de atrasos (> 36h): **41.51%**"
      ],
      "text/plain": [
       "<IPython.core.display.Markdown object>"
      ]
     },
     "metadata": {},
     "output_type": "display_data"
    },
    {
     "data": {
      "text/markdown": [
       "Número de atrasos: **44** de **106**"
      ],
      "text/plain": [
       "<IPython.core.display.Markdown object>"
      ]
     },
     "metadata": {},
     "output_type": "display_data"
    },
    {
     "data": {
      "text/markdown": [
       "Dimensões: 106 registros, 27 colunas"
      ],
      "text/plain": [
       "<IPython.core.display.Markdown object>"
      ]
     },
     "metadata": {},
     "output_type": "display_data"
    }
   ],
   "source": [
    "df_imagem = df_dasa_formatted[df_dasa_formatted['tipo_exame'] == 'imagem'].copy()\n",
    "df_imagem = df_imagem.dropna()\n",
    "\n",
    "\n",
    "df_imagem['atraso_36h'] = (df_imagem['tempo_entrega_resultado'] > 36).astype(int)\n",
    "display(Markdown(f\"Taxa de atrasos (> 36h): **{df_imagem['atraso_36h'].mean():.2%}**\"))\n",
    "display(Markdown(f\"Número de atrasos: **{df_imagem['atraso_36h'].sum()}** de **{len(df_imagem)}**\"))\n",
    "\n",
    "display(Markdown(f\"Dimensões: {get_dimensions(df_imagem)}\"))"
   ]
  },
  {
   "cell_type": "markdown",
   "id": "a2cc3b46",
   "metadata": {},
   "source": [
    "## **PROBLEMA 3**: Parede Laranja, Cris, Experiência do Paciente\n",
    "### “A parede da sala de coleta pintada de laranja realmente ajuda a agilizar os laudos?”\n",
    "* Explique em um parágrafo: Existe fundamento nessa crença? O que sua análise recomenda (ou desrecomenda)?"
   ]
  },
  {
   "cell_type": "code",
   "execution_count": 29,
   "id": "e7d3d95a",
   "metadata": {},
   "outputs": [
    {
     "data": {
      "text/markdown": [
       "Dimensões após remover nulos: 776 registros, 27 colunas"
      ],
      "text/plain": [
       "<IPython.core.display.Markdown object>"
      ]
     },
     "metadata": {},
     "output_type": "display_data"
    }
   ],
   "source": [
    "df_parede = df_dasa_formatted.copy()\n",
    "df_parede = df_parede.dropna()\n",
    "\n",
    "df_parede['parede_laranja'] = (df_parede['cor_parede_coleta'] == 'laranja').astype(int)\n",
    "\n",
    "display(Markdown(f\"Dimensões após remover nulos: {get_dimensions(df_parede)}\"))"
   ]
  }
 ],
 "metadata": {
  "kernelspec": {
   "display_name": "datascience",
   "language": "python",
   "name": "python3"
  },
  "language_info": {
   "codemirror_mode": {
    "name": "ipython",
    "version": 3
   },
   "file_extension": ".py",
   "mimetype": "text/x-python",
   "name": "python",
   "nbconvert_exporter": "python",
   "pygments_lexer": "ipython3",
   "version": "3.13.7"
  }
 },
 "nbformat": 4,
 "nbformat_minor": 5
}
